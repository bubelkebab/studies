{
 "cells": [
  {
   "cell_type": "markdown",
   "metadata": {},
   "source": [
    "## Zajęcia 9: Linear regression\n",
    "\n",
    "Wszystkie zadania ćwiczeniowe należy rozwiązywać w języku Python w kopii Jupyter Notebook'a dla danych zajęć w wyznaczonych miejscach (komórki z komentarzem `# Solution`).\n",
    "\n",
    "Nie należy usuwać komórek z treścią zadań.\n",
    "\n",
    "Należy wyświetlać outputy przy pomocy `print`"
   ]
  },
  {
   "cell_type": "markdown",
   "metadata": {},
   "source": [
    "### Zadanie 1\n",
    "\n",
    "Na podstawie danych z wyzwania https://amueval.pl/challenge/Tripadvisor%20Review%20Prediction wytrenuj model regresji liniowej (można skorzystać z gotowej implementacji z biblioteki scikit-learn. Dokonaj inferencji modelu na zbiorze testowym i wrzuć rozwiązanie na platformę AmuEval.\n",
    "\n",
    "Wybór cech modelu (one-hot encoding/frequency encoding/TF-IDF encoding lub może coś innego) pozostaje otwarty.\n",
    "Losowy submit posiada RMSE (root-mean-square-error) na poziomie około 2.0, także rozwiązania o podobnym wyniku nie będą akceptowane."
   ]
  },
  {
   "cell_type": "markdown",
   "metadata": {},
   "source": [
    "# INDEKS: 481825"
   ]
  },
  {
   "cell_type": "markdown",
   "metadata": {},
   "source": [
    "## Solution"
   ]
  },
  {
   "cell_type": "code",
   "execution_count": 112,
   "metadata": {},
   "outputs": [],
   "source": [
    "from sklearn.feature_extraction.text import TfidfVectorizer\n",
    "from sklearn.linear_model import LinearRegression\n",
    "\n",
    "import pandas as pd\n",
    "import numpy as np"
   ]
  },
  {
   "cell_type": "markdown",
   "metadata": {},
   "source": [
    "### 1. Reading data and first preprocessing"
   ]
  },
  {
   "cell_type": "code",
   "execution_count": 113,
   "metadata": {},
   "outputs": [],
   "source": [
    "def read_data(filename):\n",
    "    data=pd.read_csv(filename, sep='\\t',header=None)\n",
    "    return data\n",
    "    "
   ]
  },
  {
   "cell_type": "code",
   "execution_count": 114,
   "metadata": {},
   "outputs": [],
   "source": [
    "reviews=read_data(\"tripadvisor-review-prediction/train/in.tsv\")\n",
    "reviews.columns=['review']\n",
    "labels=read_data(\"tripadvisor-review-prediction/train/expected.tsv\")\n",
    "labels.columns=['label']\n",
    "Y=labels"
   ]
  },
  {
   "cell_type": "markdown",
   "metadata": {},
   "source": [
    "### 2. Train reviews encoding."
   ]
  },
  {
   "cell_type": "code",
   "execution_count": 115,
   "metadata": {},
   "outputs": [],
   "source": [
    "def tfidf_fit(data):\n",
    "    vectorizer=TfidfVectorizer(\n",
    "            lowercase=True,\n",
    "            stop_words='english',\n",
    "            max_features=8000,\n",
    "            min_df=0.002,\n",
    "            max_df=0.8)\n",
    "    vectorizer=vectorizer.fit(data)\n",
    "    return vectorizer\n",
    "\n",
    "def tfidf_encode(data,vectorizer):\n",
    "    X=vectorizer.transform(data)\n",
    "    encoded_messages=pd.DataFrame(X.toarray(), columns=vectorizer.get_feature_names_out())\n",
    "    return encoded_messages\n",
    "\n",
    "vectorizer=tfidf_fit(reviews['review'])\n",
    "\n",
    "X=tfidf_encode(reviews['review'],vectorizer)"
   ]
  },
  {
   "cell_type": "markdown",
   "metadata": {},
   "source": [
    "3. Model training"
   ]
  },
  {
   "cell_type": "code",
   "execution_count": 116,
   "metadata": {},
   "outputs": [
    {
     "name": "stdout",
     "output_type": "stream",
     "text": [
      "training done\n"
     ]
    }
   ],
   "source": [
    "linear_model=LinearRegression()\n",
    "linear_model.fit(X,Y)\n",
    "print(\"training done\")\n"
   ]
  },
  {
   "cell_type": "markdown",
   "metadata": {},
   "source": [
    "4. Testing data prediction"
   ]
  },
  {
   "cell_type": "code",
   "execution_count": 117,
   "metadata": {},
   "outputs": [],
   "source": [
    "test=read_data(\"tripadvisor-review-prediction/test/in.tsv\")\n",
    "test.columns=['review']\n",
    "encoded_test_X=tfidf_encode(test['review'],vectorizer)\n",
    "\n",
    "test_predicted_output=linear_model.predict(encoded_test_X)\n",
    "\n",
    "test_predicted_output_rounded=np.round(test_predicted_output)\n",
    "test_predicted_output_rounded=np.clip(test_predicted_output_rounded,1,5)\n",
    "\n",
    "test_predicted_output_rounded=pd.DataFrame(test_predicted_output_rounded,columns=['label'])\n",
    "\n",
    "test_predicted_output_rounded.to_csv(\"tripadvisor-review-prediction/test/out.tsv\",sep='\\t',header=False,index=False)"
   ]
  }
 ],
 "metadata": {
  "kernelspec": {
   "display_name": ".venv",
   "language": "python",
   "name": "python3"
  },
  "language_info": {
   "codemirror_mode": {
    "name": "ipython",
    "version": 3
   },
   "file_extension": ".py",
   "mimetype": "text/x-python",
   "name": "python",
   "nbconvert_exporter": "python",
   "pygments_lexer": "ipython3",
   "version": "3.12.7"
  }
 },
 "nbformat": 4,
 "nbformat_minor": 2
}
