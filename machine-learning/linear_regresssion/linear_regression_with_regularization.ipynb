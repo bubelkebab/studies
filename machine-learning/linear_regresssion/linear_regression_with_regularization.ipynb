{
 "cells": [
  {
   "cell_type": "markdown",
   "metadata": {},
   "source": [
    "#### Jakub Zaręba"
   ]
  },
  {
   "cell_type": "code",
   "execution_count": 3,
   "metadata": {},
   "outputs": [],
   "source": [
    "# Korzystam z mozliwosci pobrania danych przy uzyciu biblioteki ucimlrepo dla ułatwienia\n",
    "from ucimlrepo import fetch_ucirepo \n",
    "import pandas as pd\n",
    "\n",
    "communities_and_crime = fetch_ucirepo(id=183) "
   ]
  },
  {
   "cell_type": "code",
   "execution_count": 4,
   "metadata": {},
   "outputs": [
    {
     "name": "stdout",
     "output_type": "stream",
     "text": [
      "   state county community        communityname  fold  population  \\\n",
      "0      8      ?         ?         Lakewoodcity     1        0.19   \n",
      "1     53      ?         ?          Tukwilacity     1        0.00   \n",
      "2     24      ?         ?         Aberdeentown     1        0.00   \n",
      "3     34      5     81440  Willingborotownship     1        0.04   \n",
      "4     42     95      6096    Bethlehemtownship     1        0.01   \n",
      "\n",
      "   householdsize  racepctblack  racePctWhite  racePctAsian  ...  LandArea  \\\n",
      "0           0.33          0.02          0.90          0.12  ...      0.12   \n",
      "1           0.16          0.12          0.74          0.45  ...      0.02   \n",
      "2           0.42          0.49          0.56          0.17  ...      0.01   \n",
      "3           0.77          1.00          0.08          0.12  ...      0.02   \n",
      "4           0.55          0.02          0.95          0.09  ...      0.04   \n",
      "\n",
      "   PopDens  PctUsePubTrans  PolicCars  PolicOperBudg  LemasPctPolicOnPatr  \\\n",
      "0     0.26            0.20       0.06           0.04                  0.9   \n",
      "1     0.12            0.45          ?              ?                    ?   \n",
      "2     0.21            0.02          ?              ?                    ?   \n",
      "3     0.39            0.28          ?              ?                    ?   \n",
      "4     0.09            0.02          ?              ?                    ?   \n",
      "\n",
      "   LemasGangUnitDeploy  LemasPctOfficDrugUn  PolicBudgPerPop  \\\n",
      "0                  0.5                 0.32             0.14   \n",
      "1                    ?                 0.00                ?   \n",
      "2                    ?                 0.00                ?   \n",
      "3                    ?                 0.00                ?   \n",
      "4                    ?                 0.00                ?   \n",
      "\n",
      "   ViolentCrimesPerPop  \n",
      "0                 0.20  \n",
      "1                 0.67  \n",
      "2                 0.43  \n",
      "3                 0.12  \n",
      "4                 0.03  \n",
      "\n",
      "[5 rows x 128 columns]\n"
     ]
    }
   ],
   "source": [
    "X = communities_and_crime.data.features\n",
    "y=  communities_and_crime.data.targets\n",
    "alldata=pd.concat([X,y],axis=1)\n",
    "\n",
    "print(alldata[:5])"
   ]
  },
  {
   "cell_type": "markdown",
   "metadata": {},
   "source": [
    "Jak można zauważyć, w wykorzystywanym zbiorze danych wartości nieznane są oznaczane przy użyciu \"?\". Aby usunąć wartości nieznane, to dla ułatwienia najpierw zamienię każde wystąpienie \"?\" na NaN, a następnie skorzystam z domyślnych funkcji do pozbycia się NaN. Pozbędę się od razu kolumny \"communityname\", która jest typu String oraz nie będzie potrzebna."
   ]
  },
  {
   "cell_type": "code",
   "execution_count": 5,
   "metadata": {},
   "outputs": [],
   "source": [
    "for col in alldata.columns:\n",
    "    alldata[col]=alldata[col].apply(lambda x: x if x!='?' else pd.NA)\n",
    "alldata=alldata.drop(columns=[\"communityname\"])"
   ]
  },
  {
   "cell_type": "markdown",
   "metadata": {},
   "source": [
    "Sprawdźmy ile mamy wartości \"NaN\" w danych, dla każdej kolumny."
   ]
  },
  {
   "cell_type": "code",
   "execution_count": 6,
   "metadata": {},
   "outputs": [
    {
     "name": "stdout",
     "output_type": "stream",
     "text": [
      "LemasSwornFT: 1675\n",
      "LemasSwFTPerPop: 1675\n",
      "LemasSwFTFieldOps: 1675\n",
      "LemasSwFTFieldPerPop: 1675\n",
      "LemasTotalReq: 1675\n",
      "LemasTotReqPerPop: 1675\n",
      "PolicReqPerOffic: 1675\n",
      "PolicPerPop: 1675\n",
      "RacialMatchCommPol: 1675\n",
      "PctPolicWhite: 1675\n",
      "PctPolicBlack: 1675\n",
      "PctPolicHisp: 1675\n",
      "PctPolicAsian: 1675\n",
      "PctPolicMinor: 1675\n",
      "OfficAssgnDrugUnits: 1675\n",
      "NumKindsDrugsSeiz: 1675\n",
      "PolicAveOTWorked: 1675\n",
      "PolicCars: 1675\n",
      "PolicOperBudg: 1675\n",
      "LemasPctPolicOnPatr: 1675\n",
      "LemasGangUnitDeploy: 1675\n",
      "PolicBudgPerPop: 1675\n",
      "community: 1177\n",
      "county: 1174\n",
      "OtherPerCap: 1\n"
     ]
    }
   ],
   "source": [
    "columns_with_nan = [(col, alldata[col].isna().sum()) for col in alldata.columns if alldata[col].isna().sum() > 0]\n",
    "columns_with_nan.sort(key=lambda x: x[1], reverse=True)\n",
    "for col, nan_count in columns_with_nan:\n",
    "    print(f\"{col}: {nan_count}\")"
   ]
  },
  {
   "cell_type": "markdown",
   "metadata": {},
   "source": [
    "Usuwam kolumny, które zawierają wartości NaN."
   ]
  },
  {
   "cell_type": "code",
   "execution_count": 7,
   "metadata": {},
   "outputs": [],
   "source": [
    "alldata=alldata.dropna(axis=1)"
   ]
  },
  {
   "cell_type": "markdown",
   "metadata": {},
   "source": [
    "Sprawdzam, czy wszystkie kolumny mają tylko i wyłącznie wartości numeryczne:"
   ]
  },
  {
   "cell_type": "code",
   "execution_count": 9,
   "metadata": {},
   "outputs": [
    {
     "name": "stdout",
     "output_type": "stream",
     "text": [
      "True\n"
     ]
    }
   ],
   "source": [
    "print(all(alldata[col].dtype in ['float64', 'int64'] for col in alldata.columns))"
   ]
  },
  {
   "cell_type": "markdown",
   "metadata": {},
   "source": [
    "Teraz podzielę zbiór na zbiory uczące oraz testowe, dokonam skalowania zbioru uczącego przy użyciu StandardScaler oraz stworzę modele."
   ]
  },
  {
   "cell_type": "code",
   "execution_count": 10,
   "metadata": {},
   "outputs": [
    {
     "name": "stdout",
     "output_type": "stream",
     "text": [
      "Metryka RMSE dla standardowego modelu regresji liniowej: 0.1307543569484191\n",
      "Metryka RMSE dla modelu z regularyzacją: 0.12945938724912343\n"
     ]
    }
   ],
   "source": [
    "Y=alldata[\"ViolentCrimesPerPop\"]\n",
    "X=alldata.drop(columns=[\"ViolentCrimesPerPop\"])\n",
    "\n",
    "from sklearn.model_selection import train_test_split\n",
    "from sklearn.preprocessing import StandardScaler\n",
    "from sklearn.linear_model import LinearRegression\n",
    "from sklearn.linear_model import Ridge\n",
    "from sklearn.metrics import root_mean_squared_error\n",
    "\n",
    "X_train, X_test, y_train, y_test = train_test_split(X, Y, test_size=0.2, random_state=44)\n",
    "\n",
    "# Skalowanie danych\n",
    "scaler=StandardScaler()\n",
    "X_train=scaler.fit_transform(X_train)\n",
    "# Na podstawie scalera wyuczonego na danych treningowych przekształcamy dane testowe\n",
    "X_test=scaler.transform(X_test)\n",
    "\n",
    "# Zwykły model regresji liniowej\n",
    "linear_model=LinearRegression()\n",
    "linear_model.fit(X_train,y_train)\n",
    "\n",
    "# Model z regularyzacją, alpha została po prostu wymyślona\n",
    "ridge_model=Ridge(alpha=4.7)\n",
    "ridge_model.fit(X_train,y_train)\n",
    "\n",
    "mse_linear=root_mean_squared_error(y_test,linear_model.predict(X_test))\n",
    "mse_ridge=root_mean_squared_error(y_test,ridge_model.predict(X_test))\n",
    "\n",
    "print(f\"Metryka RMSE dla standardowego modelu regresji liniowej: {mse_linear}\")\n",
    "print(f\"Metryka RMSE dla modelu z regularyzacją: {mse_ridge}\")\n"
   ]
  }
 ],
 "metadata": {
  "kernelspec": {
   "display_name": "uczenie-maszynowe",
   "language": "python",
   "name": "python3"
  },
  "language_info": {
   "codemirror_mode": {
    "name": "ipython",
    "version": 3
   },
   "file_extension": ".py",
   "mimetype": "text/x-python",
   "name": "python",
   "nbconvert_exporter": "python",
   "pygments_lexer": "ipython3",
   "version": "3.13.0"
  }
 },
 "nbformat": 4,
 "nbformat_minor": 2
}
