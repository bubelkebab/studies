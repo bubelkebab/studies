{
 "cells": [
  {
   "cell_type": "markdown",
   "metadata": {},
   "source": [
    "Jakub Zaręba"
   ]
  },
  {
   "cell_type": "markdown",
   "metadata": {},
   "source": [
    "### 1. Wczytanie danych"
   ]
  },
  {
   "cell_type": "code",
   "execution_count": 8,
   "metadata": {},
   "outputs": [],
   "source": [
    "import pandas as pd\n",
    "\n",
    "from sklearn.linear_model import LogisticRegression\n",
    "from sklearn.metrics import precision_recall_fscore_support\n",
    "from sklearn.model_selection import train_test_split\n",
    "\n",
    "# Wczytanie danych\n",
    "\n",
    "data_titanic=pd.read_csv('titanic_cleaned.tsv',\n",
    "    header=0,\n",
    "    sep=\"\\t\",\n",
    ")"
   ]
  },
  {
   "cell_type": "markdown",
   "metadata": {},
   "source": [
    "### 2. Podział danych na zbiór uczący i zbiór testowy oraz przygotowanie danych do uczenia\n",
    "Danych nie muszę przygotowywać w sposób znaczący, ponieważ w poprzednim zadaniu przygotowałem dane oraz pozostawiłem kolumny, które zostaną wykorzystane do uczenia. Do modelu nie użyje jedynie kolumny PassengerId. Oprócz tego należy przypisać odpowiednie kolumny do cech.\n",
    "Wykorzystywane kolumny (wraz z ich oryginalnymi nazwami / pochodzeniem z innych kolumn z pliku ze strony kaggle.com):\n",
    "<ul>\n",
    "<li>Did survived? (survival)</li>\n",
    "<li>Ticket class (pclass)</li>\n",
    "<li>Age (Age)</li>\n",
    "<li>Amount of siblings/spouses on Titanic </li>\n",
    "<li>Amount of parents/children on Titanic </li>\n",
    "<li>Passenger fare (fare)</li>\n",
    "<li>Kolumny boolowskie odnośnie tytułu osoby np. Title_Capt = True (Pochodzi z kolumny Name)</li>\n",
    "<li>Is cabin known? (Pochodzi z kolumny Cabin; jeżeli kabina znana to wartość True)</li>\n",
    "<li>Sex_female i Sex_male (pochodzi z kolumny sex)</li>\n",
    "<li>Port of Embarkation_C\\Q\\S (pochodzi z kolumny embarked)</li>\n",
    "</ul>"
   ]
  },
  {
   "cell_type": "code",
   "execution_count": 9,
   "metadata": {},
   "outputs": [],
   "source": [
    "# Usunięcie kolumny PassengerId\n",
    "data_titanic.drop(columns=['PassengerId'], inplace=True)\n",
    "\n",
    "# Podział zbioru na treningowy i testowy\n",
    "data_train, data_test=train_test_split(data_titanic, test_size=0.2, random_state=47)\n",
    "\n",
    "# Podziały zbiorów treningowego i testowego na X i y oraz przygotowanie danych do uczenia\n",
    "y_train=pd.Series(data_train['Did survived?'])\n",
    "y_expected=pd.Series(data_test['Did survived?'])\n",
    "\n",
    "X_train=data_train.drop(columns=['Did survived?'])\n",
    "X_test=data_test.drop(columns=['Did survived?'])"
   ]
  },
  {
   "cell_type": "markdown",
   "metadata": {},
   "source": [
    "### 3. Stworzenie modelu"
   ]
  },
  {
   "cell_type": "code",
   "execution_count": 10,
   "metadata": {},
   "outputs": [],
   "source": [
    "# Model\n",
    "\n",
    "model=LogisticRegression(max_iter=10000)\n",
    "model.fit(X_train, y_train)\n",
    "\n",
    "# Predykcja dla zbioru testowego\n",
    "\n",
    "y_predicted=model.predict(X_test)"
   ]
  },
  {
   "cell_type": "markdown",
   "metadata": {},
   "source": [
    "### 4. Ewaluacja modelu"
   ]
  },
  {
   "cell_type": "code",
   "execution_count": 11,
   "metadata": {},
   "outputs": [
    {
     "name": "stdout",
     "output_type": "stream",
     "text": [
      "Precyzja: 0.8035714285714286\n",
      "Pokrycie: 0.8333333333333334\n",
      "Metryka F-score: 0.8181818181818182\n",
      "Model score: 0.84\n"
     ]
    }
   ],
   "source": [
    "precision, recall, fscore, support = precision_recall_fscore_support(\n",
    "    y_expected, y_predicted, average=\"binary\", pos_label=1\n",
    ")\n",
    "\n",
    "\n",
    "print(f\"Precyzja: {precision}\")\n",
    "print(f\"Pokrycie: {recall}\")\n",
    "print(f\"Metryka F-score: {fscore}\")\n",
    "\n",
    "score = model.score(X_test, y_expected)\n",
    "\n",
    "print(f\"Model score: {score}\")"
   ]
  }
 ],
 "metadata": {
  "kernelspec": {
   "display_name": "uczenie-maszynowe",
   "language": "python",
   "name": "python3"
  },
  "language_info": {
   "codemirror_mode": {
    "name": "ipython",
    "version": 3
   },
   "file_extension": ".py",
   "mimetype": "text/x-python",
   "name": "python",
   "nbconvert_exporter": "python",
   "pygments_lexer": "ipython3",
   "version": "3.13.0"
  }
 },
 "nbformat": 4,
 "nbformat_minor": 2
}
